{
 "cells": [
  {
   "cell_type": "code",
   "execution_count": 1,
   "id": "9d9f9b26-530f-4b50-809f-e06a74c807de",
   "metadata": {},
   "outputs": [
    {
     "ename": "NameError",
     "evalue": "name 'os' is not defined",
     "output_type": "error",
     "traceback": [
      "\u001b[1;31m---------------------------------------------------------------------------\u001b[0m",
      "\u001b[1;31mNameError\u001b[0m                                 Traceback (most recent call last)",
      "Cell \u001b[1;32mIn[1], line 6\u001b[0m\n\u001b[0;32m      3\u001b[0m duration_noise \u001b[38;5;241m=\u001b[39m \u001b[38;5;241m0\u001b[39m\n\u001b[0;32m      4\u001b[0m sample_rate\u001b[38;5;241m=\u001b[39m\u001b[38;5;241m8000\u001b[39m\n\u001b[1;32m----> 6\u001b[0m \u001b[38;5;28;01mfor\u001b[39;00m i \u001b[38;5;129;01min\u001b[39;00m \u001b[43mos\u001b[49m\u001b[38;5;241m.\u001b[39mlistdir(\u001b[38;5;124m'\u001b[39m\u001b[38;5;124m/content/bee-clean\u001b[39m\u001b[38;5;124m'\u001b[39m):\n\u001b[0;32m      7\u001b[0m   count_clean \u001b[38;5;241m+\u001b[39m\u001b[38;5;241m=\u001b[39m \u001b[38;5;241m1\u001b[39m\n\u001b[0;32m      8\u001b[0m   y,sr \u001b[38;5;241m=\u001b[39m librosa\u001b[38;5;241m.\u001b[39mload(os\u001b[38;5;241m.\u001b[39mpath\u001b[38;5;241m.\u001b[39mjoin(\u001b[38;5;124m'\u001b[39m\u001b[38;5;124m/content/bee-clean\u001b[39m\u001b[38;5;124m'\u001b[39m,i),sr\u001b[38;5;241m=\u001b[39msample_rate)\n",
      "\u001b[1;31mNameError\u001b[0m: name 'os' is not defined"
     ]
    }
   ],
   "source": [
    "count_clean = 0\n",
    "duration_clean = 0\n",
    "duration_noise = 0\n",
    "sample_rate=8000\n",
    "\n",
    "for i in os.listdir('/content/bee-clean'):\n",
    "  count_clean += 1\n",
    "  y,sr = librosa.load(os.path.join('/content/bee-clean',i),sr=sample_rate)\n",
    "  duration = librosa.get_duration(y=y,sr=sr)\n",
    "  duration_clean+=duration\n",
    "\n",
    "print(f'Number of clean audio files are {count_clean}')\n",
    "print(f'Total duration of all clean audios {duration_clean//60}')\n",
    "\n",
    "count_noise = 0\n",
    "for i in os.listdir('/content/bee-noise'):\n",
    "  count_noise += 1\n",
    "  y,sr = librosa.load(os.path.join('/content/bee-noise',i),sr=sample_rate)\n",
    "  duration = librosa.get_duration(y=y,sr=sr)\n",
    "  duration_noise+=duration\n",
    "\n",
    "print(f'Number of Noisy audio files are {count_noise}')\n",
    "print(f'Total duration of all noise audios {duration_noise//60}')"
   ]
  },
  {
   "cell_type": "code",
   "execution_count": null,
   "id": "0ffb7319-c6e9-43dc-bc97-3a29a6db4200",
   "metadata": {},
   "outputs": [],
   "source": []
  }
 ],
 "metadata": {
  "kernelspec": {
   "display_name": "Python 3 (ipykernel)",
   "language": "python",
   "name": "python3"
  },
  "language_info": {
   "codemirror_mode": {
    "name": "ipython",
    "version": 3
   },
   "file_extension": ".py",
   "mimetype": "text/x-python",
   "name": "python",
   "nbconvert_exporter": "python",
   "pygments_lexer": "ipython3",
   "version": "3.10.9"
  }
 },
 "nbformat": 4,
 "nbformat_minor": 5
}
